{
  "nbformat": 4,
  "nbformat_minor": 0,
  "metadata": {
    "colab": {
      "name": "SongRecomPrototype.ipynb",
      "provenance": [],
      "collapsed_sections": [
        "KlY0kmUfHf4g",
        "SMYBha7BHi0P",
        "YU20PRdMr7iK",
        "cPypxkLZY5Km"
      ]
    },
    "kernelspec": {
      "name": "python3",
      "display_name": "Python 3"
    },
    "language_info": {
      "name": "python"
    }
  },
  "cells": [
    {
      "cell_type": "markdown",
      "source": [
        "# Data Preparations"
      ],
      "metadata": {
        "id": "KlY0kmUfHf4g"
      }
    },
    {
      "cell_type": "code",
      "execution_count": null,
      "metadata": {
        "id": "7IUMDmGLJ92A"
      },
      "outputs": [],
      "source": [
        "import pandas as pd\n",
        "import re\n",
        "import numpy as np \n",
        "from sklearn.metrics.pairwise import cosine_similarity\n",
        "import matplotlib\n",
        "import matplotlib.pyplot as plt\n",
        "import seaborn as sns\n",
        "import pandas as pd\n",
        "import re\n",
        "import numpy as np \n",
        "from sklearn.metrics.pairwise import cosine_similarity\n",
        "from sklearn.feature_extraction.text import CountVectorizer\n",
        "from sklearn.feature_extraction.text import TfidfVectorizer\n",
        "from sklearn.preprocessing import MinMaxScaler\n",
        "\n",
        "%matplotlib inline"
      ]
    },
    {
      "cell_type": "code",
      "source": [
        "data1 = pd.read_csv(\"Songs_with_features.csv\")\n",
        "data2 = pd.read_csv(\"spotify.csv\")\n",
        "print(data1.shape)\n",
        "print(data2.shape)"
      ],
      "metadata": {
        "id": "h2S79AIiM-q8"
      },
      "execution_count": null,
      "outputs": []
    },
    {
      "cell_type": "code",
      "source": [
        "print(data1.columns)\n",
        "print(data2.columns)\n"
      ],
      "metadata": {
        "id": "SDjJ-zHYNnuZ"
      },
      "execution_count": null,
      "outputs": []
    },
    {
      "cell_type": "code",
      "source": [
        "data1.drop(columns=['Unnamed: 0', 'Unnamed: 0.1', 'length','danceability.1','tempo', 'time_signature'],inplace=True)\n",
        "data2.drop(columns=['duration_ms','explicit', 'id','key','mode','tempo','valence'],inplace=True)"
      ],
      "metadata": {
        "id": "3B8ONjLtNv_r"
      },
      "execution_count": null,
      "outputs": []
    },
    {
      "cell_type": "code",
      "source": [
        "data2.info()\n",
        "data1.info()"
      ],
      "metadata": {
        "id": "-yDb9j9iPYmt"
      },
      "execution_count": null,
      "outputs": []
    },
    {
      "cell_type": "code",
      "source": [
        "data1['release_date'] = pd.DatetimeIndex(data1['release_date']).year\n",
        "data2['release_date'] =  pd.DatetimeIndex(pd.to_datetime(data2.year,format=\"%Y\")).year\n",
        "data2[\"artist\"] = data2[\"artists\"].apply(lambda x: x.replace('[','').replace(']','').replace(\"'\",'').replace('\"','')).astype(str)\n",
        "\n",
        "data1 = data1[[\"name\",\"artist\",\"release_date\",\"popularity\",\"danceability\",\"acousticness\",\"energy\",\"instrumentalness\",\"liveness\",\"loudness\",\"speechiness\"]]\n",
        "data2 = data2[[\"name\",\"artist\",\"release_date\",\"popularity\",\"danceability\",\"acousticness\",\"energy\",\"instrumentalness\",\"liveness\",\"loudness\",\"speechiness\"]]"
      ],
      "metadata": {
        "id": "nbbQtATwQXj0"
      },
      "execution_count": null,
      "outputs": []
    },
    {
      "cell_type": "code",
      "source": [
        "data1.head()"
      ],
      "metadata": {
        "id": "cqFoYgMOR-Vl"
      },
      "execution_count": null,
      "outputs": []
    },
    {
      "cell_type": "code",
      "source": [
        "data2.head()"
      ],
      "metadata": {
        "id": "3rOKzHxHSOYh"
      },
      "execution_count": null,
      "outputs": []
    },
    {
      "cell_type": "code",
      "source": [
        "data1 = data1[data1['release_date'] > 1995]\n",
        "data2 = data2[data2['release_date'] > 1995]\n",
        "print(data1.shape)\n",
        "print(data2.shape)"
      ],
      "metadata": {
        "id": "d7JYPYCrZzc8"
      },
      "execution_count": null,
      "outputs": []
    },
    {
      "cell_type": "code",
      "source": [
        "data = pd.concat([data1,data2])\n",
        "print(data.shape)\n",
        "data.drop_duplicates(subset=\"name\",inplace=True)"
      ],
      "metadata": {
        "id": "AESgwrSXa7sX"
      },
      "execution_count": null,
      "outputs": []
    },
    {
      "cell_type": "code",
      "source": [
        "print(data.shape)\n",
        "data.describe()"
      ],
      "metadata": {
        "id": "f6thNKvmb0-6"
      },
      "execution_count": null,
      "outputs": []
    },
    {
      "cell_type": "code",
      "source": [
        "data = data.sort_values(by=[\"release_date\"],ascending=False,ignore_index=True)"
      ],
      "metadata": {
        "id": "VSqymUutb9I4"
      },
      "execution_count": null,
      "outputs": []
    },
    {
      "cell_type": "code",
      "source": [
        "data.head()"
      ],
      "metadata": {
        "id": "EtZ1T_c3der8"
      },
      "execution_count": null,
      "outputs": []
    },
    {
      "cell_type": "code",
      "source": [
        "data.to_csv(\"Spotify-Songs-Data.csv\")"
      ],
      "metadata": {
        "id": "CA0dpdVVeJxy"
      },
      "execution_count": null,
      "outputs": []
    },
    {
      "cell_type": "markdown",
      "source": [
        "# Exploraotry Data Analysis"
      ],
      "metadata": {
        "id": "SMYBha7BHi0P"
      }
    },
    {
      "cell_type": "code",
      "source": [
        "data = pd.read_csv(\"Spotify-Songs-Data.csv\")\n",
        "\n",
        "correlation = data.corr()\n",
        "sns.heatmap(correlation,cmap='BrBG_r',annot_kws={\"fontsize\":12}, annot = True)\n"
      ],
      "metadata": {
        "id": "-quumuOGnhks"
      },
      "execution_count": null,
      "outputs": []
    },
    {
      "cell_type": "code",
      "source": [
        "popular_tracks = data.groupby('name')[['popularity']].mean().sort_values('popularity', ascending = False).reset_index().head(20)\n",
        "popular_tracks"
      ],
      "metadata": {
        "id": "5MvtS83EnssG"
      },
      "execution_count": null,
      "outputs": []
    },
    {
      "cell_type": "code",
      "source": [
        "\n",
        "sns.barplot(x = 'popularity', y = 'name', data = popular_tracks).set(title = 'Top Tracks vs Average Popularity');"
      ],
      "metadata": {
        "id": "n6SKav2soYAS"
      },
      "execution_count": null,
      "outputs": []
    },
    {
      "cell_type": "code",
      "source": [
        "popular_artists = data.groupby('artist')[['popularity']].sum().sort_values('popularity', ascending = False).reset_index().head(20)\n",
        "popular_artists "
      ],
      "metadata": {
        "id": "IdyZAZ3Oocvm"
      },
      "execution_count": null,
      "outputs": []
    },
    {
      "cell_type": "code",
      "source": [
        "acousticness = data.groupby('release_date')[['acousticness']].mean().reset_index().sort_values('release_date')\n",
        "energy = data.groupby('release_date')[['energy']].mean().reset_index().sort_values('release_date')\n",
        "danceability = data.groupby('release_date')[['danceability']].mean().reset_index().sort_values('release_date')\n",
        "\n",
        "sns.lineplot(x = 'release_date', y = 'acousticness', data = acousticness, color = 'purple').set(title = 'Average values of energy for every year')\n",
        "sns.lineplot(x = 'release_date', y = 'energy', data = energy, color = 'red').set(title = 'Average values of energy for every year')\n",
        "sns.lineplot(x = 'release_date', y = 'danceability', data = danceability, color = 'yellow').set(title = 'Average values of energy for every year')\n",
        "\n",
        "plt.legend(['acousticness','energy','danceability']);"
      ],
      "metadata": {
        "id": "cKDYDKBAomrY"
      },
      "execution_count": null,
      "outputs": []
    },
    {
      "cell_type": "code",
      "source": [
        "# total_time = data_new_df.duration_minutes.sum() / (24*365*60)"
      ],
      "metadata": {
        "id": "o8IjhGjdqsbf"
      },
      "execution_count": null,
      "outputs": []
    },
    {
      "cell_type": "markdown",
      "source": [
        "# Feature Exrtac & Cosine Similarity Matrix"
      ],
      "metadata": {
        "id": "YU20PRdMr7iK"
      }
    },
    {
      "cell_type": "code",
      "source": [
        "data = pd.read_csv(\"Spotify-Songs-Data.csv\")"
      ],
      "metadata": {
        "id": "y3RWGDTWr_AU"
      },
      "execution_count": null,
      "outputs": []
    },
    {
      "cell_type": "code",
      "source": [
        "data.head()"
      ],
      "metadata": {
        "id": "gDIvK4DXZOtG"
      },
      "execution_count": null,
      "outputs": []
    },
    {
      "cell_type": "code",
      "source": [
        "columns = [\"release_date\",\"popularity\",\"danceability\",\"acousticness\",\"energy\",\"instrumentalness\",\"liveness\",\"loudness\",\"speechiness\"]\n",
        "\n",
        "scaler = MinMaxScaler()\n",
        "\n",
        "for i in columns:\n",
        "  data[i] = scaler.fit_transform(np.array(data[i]).reshape(-1,1))"
      ],
      "metadata": {
        "id": "ubwShZ1oItST"
      },
      "execution_count": null,
      "outputs": []
    },
    {
      "cell_type": "code",
      "source": [
        "data.shape\n",
        "data.head()"
      ],
      "metadata": {
        "id": "iVJ5VwN_sz7Q"
      },
      "execution_count": null,
      "outputs": []
    },
    {
      "cell_type": "code",
      "source": [
        "datascaled = data[columns][:int((data.shape[0]-1)/2)]\n",
        "datascaledarr = np.array(datascaled)\n",
        "print(datascaledarr)\n",
        "print(len(datascaledarr))"
      ],
      "metadata": {
        "id": "jalf8LNqJT4x"
      },
      "execution_count": null,
      "outputs": []
    },
    {
      "cell_type": "code",
      "source": [
        "# vsm  = cosine_similarity(datascaledarr,datascaledarr)\n",
        "# np.save('vsm.npy', vsm) "
      ],
      "metadata": {
        "id": "Vp8AEpX-Ln-j"
      },
      "execution_count": null,
      "outputs": []
    },
    {
      "cell_type": "code",
      "source": [
        "vsm1  = cosine_similarity(datascaledarr,datascaledarr) "
      ],
      "metadata": {
        "id": "4bVtEgwqNM0U"
      },
      "execution_count": null,
      "outputs": []
    },
    {
      "cell_type": "code",
      "source": [
        "vsm1array = np.array(vsm1)\n",
        "print((vsm1array.size * vsm1array.itemsize)/1000000000)\n",
        "print(vsm1array.nbytes/1000000000)"
      ],
      "metadata": {
        "id": "s5gMUUCdZ9WG"
      },
      "execution_count": null,
      "outputs": []
    },
    {
      "cell_type": "markdown",
      "source": [
        "# Recomendation"
      ],
      "metadata": {
        "id": "cPypxkLZY5Km"
      }
    },
    {
      "cell_type": "code",
      "source": [
        "name = \"Blinding Lights\"\n",
        "songdata = data[data.name==name]\n",
        "songdataidx = data[data.name==name].index[0]\n",
        "songdatascaled = datascaledarr[songdataidx]\n",
        "# features = [songdata[i].values[0] for i in columns]\n",
        "# print(songdatascaled)\n",
        "# print(songdataidx)\n",
        "\n",
        "cs_data = list(enumerate(vsm2[songdataidx]))\n",
        "print(cs_data)\n",
        "cs_data.sort(key=lambda x:x[1],reverse=True)"
      ],
      "metadata": {
        "id": "ZXZWTboZPFBG"
      },
      "execution_count": null,
      "outputs": []
    },
    {
      "cell_type": "code",
      "source": [
        "# print(cs_data[:10])\n",
        "num = 1\n",
        "for i in cs_data[0:25]:\n",
        "  name2 = data[\"name\"][i[0]] \n",
        "  artist = data[\"artist\"][i[0]]\n",
        "  print(num,\" \",name2,\"by\",artist)\n",
        "  num +=1\n"
      ],
      "metadata": {
        "id": "Ga7M9xQcVuqf"
      },
      "execution_count": null,
      "outputs": []
    }
  ]
}